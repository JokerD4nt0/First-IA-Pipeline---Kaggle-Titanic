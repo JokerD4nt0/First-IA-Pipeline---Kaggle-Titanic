{
 "cells": [
  {
   "cell_type": "markdown",
   "metadata": {},
   "source": [
    "# Kaggle Titanic - Machine Learning From Disaster\n",
    "\n",
    "Objet du projet : Créer un modèle qui prédit la survie ou non dans la catastrophe du titanic.\n",
    "\n",
    "Algorithmes utilisés : Régression logistique, bayesien naïf ou arbre de décision.\n",
    "\n",
    "Nom des données : \n",
    "\n",
    "> PassengerID/ID : Identifiant du passager (entre 1 et 1309)\n",
    "\n",
    "> Survived : Survivant (1) ou non (0)\n",
    "\n",
    "> Pclass/Classe : Classe du passager (1 = 1ère classe, 2 = 2ème classe, 3 = 3ème classe)\n",
    "\n",
    "> Name : Nom et titre du passager (Nom, titre, prénoms)\n",
    "\n",
    "> Sex : Sexe du passager ('male' ou 'female')\n",
    "\n",
    "> Age : Age du passager (Décimal si inférieur à 1,  estimé si 'xx.5')\n",
    "\n",
    "> SibSp/Horizontal : Nb d'époux, de frères ou de soeurs présents on bord\n",
    "\n",
    "> Parch/Vertical : Nb de parents ou d'enfants présents on board\n",
    "\n",
    "> Ticket : N° Ticket\n",
    "\n",
    "> Fare/Price : Prix du ticket (prix indiqué en livre et pour un seul achat (peut correspondre à plusieurs tickets)\n",
    "\n",
    "> Cabin : N° Cabine (forme 'A123')\n",
    "\n",
    "> Embarked : Part d'embarcation (C = Charbourg, Q = Queenstown, S = Southampton)\n",
    "\n",
    "***Etapes :*** \n",
    "\n",
    "> Etape 1 - Visualisation \n",
    "\n",
    "> Etape 2 - Feature engineering\n",
    "\n",
    "> Etape 3 - Modelling\n",
    "\n",
    "> Etape 4 - Difficulties/Explanation"
   ]
  },
  {
   "cell_type": "code",
   "execution_count": 1,
   "metadata": {},
   "outputs": [],
   "source": [
    "# Analyse des datas\n",
    "import numpy as np\n",
    "import pandas as pd\n",
    "\n",
    "# Visualisation\n",
    "import seaborn as sns\n",
    "import matplotlib.pyplot as plt\n",
    "import seaborn as sns"
   ]
  },
  {
   "cell_type": "code",
   "execution_count": 2,
   "metadata": {},
   "outputs": [],
   "source": [
    "train = pd.read_csv('train.csv')\n",
    "kaggle = pd.read_csv('test.csv')\n"
   ]
  },
  {
   "cell_type": "code",
   "execution_count": 3,
   "metadata": {},
   "outputs": [
    {
     "data": {
      "text/html": [
       "<div>\n",
       "<style scoped>\n",
       "    .dataframe tbody tr th:only-of-type {\n",
       "        vertical-align: middle;\n",
       "    }\n",
       "\n",
       "    .dataframe tbody tr th {\n",
       "        vertical-align: top;\n",
       "    }\n",
       "\n",
       "    .dataframe thead th {\n",
       "        text-align: right;\n",
       "    }\n",
       "</style>\n",
       "<table border=\"1\" class=\"dataframe\">\n",
       "  <thead>\n",
       "    <tr style=\"text-align: right;\">\n",
       "      <th></th>\n",
       "      <th>PassengerId</th>\n",
       "      <th>Survived</th>\n",
       "      <th>Pclass</th>\n",
       "      <th>Name</th>\n",
       "      <th>Sex</th>\n",
       "      <th>Age</th>\n",
       "      <th>SibSp</th>\n",
       "      <th>Parch</th>\n",
       "      <th>Ticket</th>\n",
       "      <th>Fare</th>\n",
       "      <th>Cabin</th>\n",
       "      <th>Embarked</th>\n",
       "    </tr>\n",
       "  </thead>\n",
       "  <tbody>\n",
       "    <tr>\n",
       "      <th>0</th>\n",
       "      <td>1</td>\n",
       "      <td>0</td>\n",
       "      <td>3</td>\n",
       "      <td>Braund, Mr. Owen Harris</td>\n",
       "      <td>male</td>\n",
       "      <td>22.0</td>\n",
       "      <td>1</td>\n",
       "      <td>0</td>\n",
       "      <td>A/5 21171</td>\n",
       "      <td>7.2500</td>\n",
       "      <td>NaN</td>\n",
       "      <td>S</td>\n",
       "    </tr>\n",
       "    <tr>\n",
       "      <th>1</th>\n",
       "      <td>2</td>\n",
       "      <td>1</td>\n",
       "      <td>1</td>\n",
       "      <td>Cumings, Mrs. John Bradley (Florence Briggs Th...</td>\n",
       "      <td>female</td>\n",
       "      <td>38.0</td>\n",
       "      <td>1</td>\n",
       "      <td>0</td>\n",
       "      <td>PC 17599</td>\n",
       "      <td>71.2833</td>\n",
       "      <td>C85</td>\n",
       "      <td>C</td>\n",
       "    </tr>\n",
       "    <tr>\n",
       "      <th>2</th>\n",
       "      <td>3</td>\n",
       "      <td>1</td>\n",
       "      <td>3</td>\n",
       "      <td>Heikkinen, Miss. Laina</td>\n",
       "      <td>female</td>\n",
       "      <td>26.0</td>\n",
       "      <td>0</td>\n",
       "      <td>0</td>\n",
       "      <td>STON/O2. 3101282</td>\n",
       "      <td>7.9250</td>\n",
       "      <td>NaN</td>\n",
       "      <td>S</td>\n",
       "    </tr>\n",
       "    <tr>\n",
       "      <th>3</th>\n",
       "      <td>4</td>\n",
       "      <td>1</td>\n",
       "      <td>1</td>\n",
       "      <td>Futrelle, Mrs. Jacques Heath (Lily May Peel)</td>\n",
       "      <td>female</td>\n",
       "      <td>35.0</td>\n",
       "      <td>1</td>\n",
       "      <td>0</td>\n",
       "      <td>113803</td>\n",
       "      <td>53.1000</td>\n",
       "      <td>C123</td>\n",
       "      <td>S</td>\n",
       "    </tr>\n",
       "    <tr>\n",
       "      <th>4</th>\n",
       "      <td>5</td>\n",
       "      <td>0</td>\n",
       "      <td>3</td>\n",
       "      <td>Allen, Mr. William Henry</td>\n",
       "      <td>male</td>\n",
       "      <td>35.0</td>\n",
       "      <td>0</td>\n",
       "      <td>0</td>\n",
       "      <td>373450</td>\n",
       "      <td>8.0500</td>\n",
       "      <td>NaN</td>\n",
       "      <td>S</td>\n",
       "    </tr>\n",
       "  </tbody>\n",
       "</table>\n",
       "</div>"
      ],
      "text/plain": [
       "   PassengerId  Survived  Pclass  \\\n",
       "0            1         0       3   \n",
       "1            2         1       1   \n",
       "2            3         1       3   \n",
       "3            4         1       1   \n",
       "4            5         0       3   \n",
       "\n",
       "                                                Name     Sex   Age  SibSp  \\\n",
       "0                            Braund, Mr. Owen Harris    male  22.0      1   \n",
       "1  Cumings, Mrs. John Bradley (Florence Briggs Th...  female  38.0      1   \n",
       "2                             Heikkinen, Miss. Laina  female  26.0      0   \n",
       "3       Futrelle, Mrs. Jacques Heath (Lily May Peel)  female  35.0      1   \n",
       "4                           Allen, Mr. William Henry    male  35.0      0   \n",
       "\n",
       "   Parch            Ticket     Fare Cabin Embarked  \n",
       "0      0         A/5 21171   7.2500   NaN        S  \n",
       "1      0          PC 17599  71.2833   C85        C  \n",
       "2      0  STON/O2. 3101282   7.9250   NaN        S  \n",
       "3      0            113803  53.1000  C123        S  \n",
       "4      0            373450   8.0500   NaN        S  "
      ]
     },
     "execution_count": 3,
     "metadata": {},
     "output_type": "execute_result"
    }
   ],
   "source": [
    "train.head()"
   ]
  },
  {
   "cell_type": "code",
   "execution_count": 4,
   "metadata": {},
   "outputs": [],
   "source": [
    "train = train.rename(index=str, columns={\"Pclass\": \"Class\", \n",
    "                                 \"SibSp\": \"Horizontal\",\n",
    "                                 \"Parch\": \"Vertical\",\n",
    "                                 \"Fare\": \"Price\"})\n",
    "kaggle = kaggle.rename(index=str, columns={\"Pclass\": \"Class\", \n",
    "                                 \"SibSp\": \"Horizontal\",\n",
    "                                 \"Parch\": \"Vertical\",\n",
    "                                 \"Fare\": \"Price\"})"
   ]
  },
  {
   "cell_type": "markdown",
   "metadata": {},
   "source": [
    "# Etape 1 - Visualisation"
   ]
  },
  {
   "cell_type": "code",
   "execution_count": 5,
   "metadata": {},
   "outputs": [
    {
     "data": {
      "text/html": [
       "<img src=\"https://static1.squarespace.com/static/5006453fe4b09ef2252ba068/t/5090b249e4b047ba54dfd258/1351660113175/TItanic-Survival-Infographic.jpg?format=1500w\"/>"
      ],
      "text/plain": [
       "<IPython.core.display.Image object>"
      ]
     },
     "execution_count": 5,
     "metadata": {},
     "output_type": "execute_result"
    }
   ],
   "source": [
    "from IPython.display import Image\n",
    "Image(url= \"https://static1.squarespace.com/static/5006453fe4b09ef2252ba068/t/5090b249e4b047ba54dfd258/1351660113175/TItanic-Survival-Infographic.jpg?format=1500w\")"
   ]
  },
  {
   "cell_type": "markdown",
   "metadata": {},
   "source": [
    "> ***Corrélation***"
   ]
  },
  {
   "cell_type": "code",
   "execution_count": 6,
   "metadata": {},
   "outputs": [
    {
     "data": {
      "text/html": [
       "<div>\n",
       "<style scoped>\n",
       "    .dataframe tbody tr th:only-of-type {\n",
       "        vertical-align: middle;\n",
       "    }\n",
       "\n",
       "    .dataframe tbody tr th {\n",
       "        vertical-align: top;\n",
       "    }\n",
       "\n",
       "    .dataframe thead th {\n",
       "        text-align: right;\n",
       "    }\n",
       "</style>\n",
       "<table border=\"1\" class=\"dataframe\">\n",
       "  <thead>\n",
       "    <tr style=\"text-align: right;\">\n",
       "      <th></th>\n",
       "      <th>PassengerId</th>\n",
       "      <th>Survived</th>\n",
       "      <th>Class</th>\n",
       "      <th>Age</th>\n",
       "      <th>Horizontal</th>\n",
       "      <th>Vertical</th>\n",
       "      <th>Price</th>\n",
       "    </tr>\n",
       "  </thead>\n",
       "  <tbody>\n",
       "    <tr>\n",
       "      <th>PassengerId</th>\n",
       "      <td>1.000000</td>\n",
       "      <td>-0.005007</td>\n",
       "      <td>-0.035144</td>\n",
       "      <td>0.036847</td>\n",
       "      <td>-0.057527</td>\n",
       "      <td>-0.001652</td>\n",
       "      <td>0.012658</td>\n",
       "    </tr>\n",
       "    <tr>\n",
       "      <th>Survived</th>\n",
       "      <td>-0.005007</td>\n",
       "      <td>1.000000</td>\n",
       "      <td>-0.338481</td>\n",
       "      <td>-0.077221</td>\n",
       "      <td>-0.035322</td>\n",
       "      <td>0.081629</td>\n",
       "      <td>0.257307</td>\n",
       "    </tr>\n",
       "    <tr>\n",
       "      <th>Class</th>\n",
       "      <td>-0.035144</td>\n",
       "      <td>-0.338481</td>\n",
       "      <td>1.000000</td>\n",
       "      <td>-0.369226</td>\n",
       "      <td>0.083081</td>\n",
       "      <td>0.018443</td>\n",
       "      <td>-0.549500</td>\n",
       "    </tr>\n",
       "    <tr>\n",
       "      <th>Age</th>\n",
       "      <td>0.036847</td>\n",
       "      <td>-0.077221</td>\n",
       "      <td>-0.369226</td>\n",
       "      <td>1.000000</td>\n",
       "      <td>-0.308247</td>\n",
       "      <td>-0.189119</td>\n",
       "      <td>0.096067</td>\n",
       "    </tr>\n",
       "    <tr>\n",
       "      <th>Horizontal</th>\n",
       "      <td>-0.057527</td>\n",
       "      <td>-0.035322</td>\n",
       "      <td>0.083081</td>\n",
       "      <td>-0.308247</td>\n",
       "      <td>1.000000</td>\n",
       "      <td>0.414838</td>\n",
       "      <td>0.159651</td>\n",
       "    </tr>\n",
       "    <tr>\n",
       "      <th>Vertical</th>\n",
       "      <td>-0.001652</td>\n",
       "      <td>0.081629</td>\n",
       "      <td>0.018443</td>\n",
       "      <td>-0.189119</td>\n",
       "      <td>0.414838</td>\n",
       "      <td>1.000000</td>\n",
       "      <td>0.216225</td>\n",
       "    </tr>\n",
       "    <tr>\n",
       "      <th>Price</th>\n",
       "      <td>0.012658</td>\n",
       "      <td>0.257307</td>\n",
       "      <td>-0.549500</td>\n",
       "      <td>0.096067</td>\n",
       "      <td>0.159651</td>\n",
       "      <td>0.216225</td>\n",
       "      <td>1.000000</td>\n",
       "    </tr>\n",
       "  </tbody>\n",
       "</table>\n",
       "</div>"
      ],
      "text/plain": [
       "             PassengerId  Survived     Class       Age  Horizontal  Vertical  \\\n",
       "PassengerId     1.000000 -0.005007 -0.035144  0.036847   -0.057527 -0.001652   \n",
       "Survived       -0.005007  1.000000 -0.338481 -0.077221   -0.035322  0.081629   \n",
       "Class          -0.035144 -0.338481  1.000000 -0.369226    0.083081  0.018443   \n",
       "Age             0.036847 -0.077221 -0.369226  1.000000   -0.308247 -0.189119   \n",
       "Horizontal     -0.057527 -0.035322  0.083081 -0.308247    1.000000  0.414838   \n",
       "Vertical       -0.001652  0.081629  0.018443 -0.189119    0.414838  1.000000   \n",
       "Price           0.012658  0.257307 -0.549500  0.096067    0.159651  0.216225   \n",
       "\n",
       "                Price  \n",
       "PassengerId  0.012658  \n",
       "Survived     0.257307  \n",
       "Class       -0.549500  \n",
       "Age          0.096067  \n",
       "Horizontal   0.159651  \n",
       "Vertical     0.216225  \n",
       "Price        1.000000  "
      ]
     },
     "execution_count": 6,
     "metadata": {},
     "output_type": "execute_result"
    }
   ],
   "source": [
    "correlation = train.corr()\n",
    "correlation"
   ]
  },
  {
   "cell_type": "code",
   "execution_count": 7,
   "metadata": {},
   "outputs": [
    {
     "data": {
      "text/plain": [
       "<matplotlib.axes._subplots.AxesSubplot at 0x12d30913470>"
      ]
     },
     "execution_count": 7,
     "metadata": {},
     "output_type": "execute_result"
    },
    {
     "data": {
      "image/png": "[encoded data removed]",
      "text/plain": [
       "<matplotlib.figure.Figure at 0x12d3085d240>"
      ]
     },
     "metadata": {},
     "output_type": "display_data"
    }
   ],
   "source": [
    "import seaborn as sb\n",
    "sb.heatmap(train.corr(), annot=True)"
   ]
  },
  {
   "cell_type": "code",
   "execution_count": 8,
   "metadata": {},
   "outputs": [],
   "source": [
    "def bar_chart(feature):\n",
    "    survived = train[train['Survived']==1][feature].value_counts()\n",
    "    dead = train[train['Survived']==0][feature].value_counts()\n",
    "    df = pd.DataFrame([survived,dead])\n",
    "    df.index = ['Survived','Dead']\n",
    "    df.plot(kind='bar',stacked=True, figsize=(12,7))\n"
   ]
  },
  {
   "cell_type": "markdown",
   "metadata": {},
   "source": [
    "> ***'Sex'***"
   ]
  },
  {
   "cell_type": "code",
   "execution_count": 9,
   "metadata": {},
   "outputs": [
    {
     "data": {
      "image/png": "[encoded data removed]",
      "text/plain": [
       "<matplotlib.figure.Figure at 0x12d2c18af98>"
      ]
     },
     "metadata": {},
     "output_type": "display_data"
    }
   ],
   "source": [
    "bar_chart('Sex')"
   ]
  },
  {
   "cell_type": "markdown",
   "metadata": {},
   "source": [
    "Le graphique confirme que les femmes ont plus de chance de survie que les hommes. "
   ]
  },
  {
   "cell_type": "markdown",
   "metadata": {},
   "source": [
    "> *** 'Class'***"
   ]
  },
  {
   "cell_type": "code",
   "execution_count": 10,
   "metadata": {},
   "outputs": [
    {
     "data": {
      "image/png": "[encoded data removed]",
      "text/plain": [
       "<matplotlib.figure.Figure at 0x12d2a2a04a8>"
      ]
     },
     "metadata": {},
     "output_type": "display_data"
    }
   ],
   "source": [
    "bar_chart('Class')"
   ]
  },
  {
   "cell_type": "markdown",
   "metadata": {},
   "source": [
    "Le graphique confirme que la 1ère classe a le plus de chance de survie que les autres classes.\n",
    "Le graphique confirme que la 3ème classe a le plus de chance de mourrir que les autres classes. "
   ]
  },
  {
   "cell_type": "markdown",
   "metadata": {},
   "source": [
    "> ***'Embarked'***"
   ]
  },
  {
   "cell_type": "code",
   "execution_count": 11,
   "metadata": {
    "scrolled": true
   },
   "outputs": [
    {
     "data": {
      "image/png": "[encoded data removed]",
      "text/plain": [
       "<matplotlib.figure.Figure at 0x12d30dba7b8>"
      ]
     },
     "metadata": {},
     "output_type": "display_data"
    }
   ],
   "source": [
    "bar_chart('Embarked')"
   ]
  },
  {
   "cell_type": "markdown",
   "metadata": {},
   "source": [
    "Le graphique confirme qu'une personne embarquée à C a un peu plus de chance de survie.\n",
    "Le graphique confirme qu'une personne embarquée à Q a plus de chance de mourrir. "
   ]
  },
  {
   "cell_type": "markdown",
   "metadata": {},
   "source": [
    "> ***'Age'***"
   ]
  },
  {
   "cell_type": "code",
   "execution_count": 12,
   "metadata": {},
   "outputs": [
    {
     "data": {
      "text/html": [
       "<div>\n",
       "<style scoped>\n",
       "    .dataframe tbody tr th:only-of-type {\n",
       "        vertical-align: middle;\n",
       "    }\n",
       "\n",
       "    .dataframe tbody tr th {\n",
       "        vertical-align: top;\n",
       "    }\n",
       "\n",
       "    .dataframe thead th {\n",
       "        text-align: right;\n",
       "    }\n",
       "</style>\n",
       "<table border=\"1\" class=\"dataframe\">\n",
       "  <thead>\n",
       "    <tr style=\"text-align: right;\">\n",
       "      <th></th>\n",
       "      <th>PassengerId</th>\n",
       "      <th>Survived</th>\n",
       "      <th>Class</th>\n",
       "      <th>Name</th>\n",
       "      <th>Sex</th>\n",
       "      <th>Age</th>\n",
       "      <th>Horizontal</th>\n",
       "      <th>Vertical</th>\n",
       "      <th>Ticket</th>\n",
       "      <th>Price</th>\n",
       "      <th>Cabin</th>\n",
       "      <th>Embarked</th>\n",
       "    </tr>\n",
       "  </thead>\n",
       "  <tbody>\n",
       "    <tr>\n",
       "      <th>0</th>\n",
       "      <td>1</td>\n",
       "      <td>0</td>\n",
       "      <td>3</td>\n",
       "      <td>Braund, Mr. Owen Harris</td>\n",
       "      <td>male</td>\n",
       "      <td>22.0</td>\n",
       "      <td>1</td>\n",
       "      <td>0</td>\n",
       "      <td>A/5 21171</td>\n",
       "      <td>7.2500</td>\n",
       "      <td>NaN</td>\n",
       "      <td>S</td>\n",
       "    </tr>\n",
       "    <tr>\n",
       "      <th>1</th>\n",
       "      <td>2</td>\n",
       "      <td>1</td>\n",
       "      <td>1</td>\n",
       "      <td>Cumings, Mrs. John Bradley (Florence Briggs Th...</td>\n",
       "      <td>female</td>\n",
       "      <td>38.0</td>\n",
       "      <td>1</td>\n",
       "      <td>0</td>\n",
       "      <td>PC 17599</td>\n",
       "      <td>71.2833</td>\n",
       "      <td>C85</td>\n",
       "      <td>C</td>\n",
       "    </tr>\n",
       "    <tr>\n",
       "      <th>2</th>\n",
       "      <td>3</td>\n",
       "      <td>1</td>\n",
       "      <td>3</td>\n",
       "      <td>Heikkinen, Miss. Laina</td>\n",
       "      <td>female</td>\n",
       "      <td>26.0</td>\n",
       "      <td>0</td>\n",
       "      <td>0</td>\n",
       "      <td>STON/O2. 3101282</td>\n",
       "      <td>7.9250</td>\n",
       "      <td>NaN</td>\n",
       "      <td>S</td>\n",
       "    </tr>\n",
       "    <tr>\n",
       "      <th>3</th>\n",
       "      <td>4</td>\n",
       "      <td>1</td>\n",
       "      <td>1</td>\n",
       "      <td>Futrelle, Mrs. Jacques Heath (Lily May Peel)</td>\n",
       "      <td>female</td>\n",
       "      <td>35.0</td>\n",
       "      <td>1</td>\n",
       "      <td>0</td>\n",
       "      <td>113803</td>\n",
       "      <td>53.1000</td>\n",
       "      <td>C123</td>\n",
       "      <td>S</td>\n",
       "    </tr>\n",
       "    <tr>\n",
       "      <th>4</th>\n",
       "      <td>5</td>\n",
       "      <td>0</td>\n",
       "      <td>3</td>\n",
       "      <td>Allen, Mr. William Henry</td>\n",
       "      <td>male</td>\n",
       "      <td>35.0</td>\n",
       "      <td>0</td>\n",
       "      <td>0</td>\n",
       "      <td>373450</td>\n",
       "      <td>8.0500</td>\n",
       "      <td>NaN</td>\n",
       "      <td>S</td>\n",
       "    </tr>\n",
       "    <tr>\n",
       "      <th>5</th>\n",
       "      <td>6</td>\n",
       "      <td>0</td>\n",
       "      <td>3</td>\n",
       "      <td>Moran, Mr. James</td>\n",
       "      <td>male</td>\n",
       "      <td>NaN</td>\n",
       "      <td>0</td>\n",
       "      <td>0</td>\n",
       "      <td>330877</td>\n",
       "      <td>8.4583</td>\n",
       "      <td>NaN</td>\n",
       "      <td>Q</td>\n",
       "    </tr>\n",
       "    <tr>\n",
       "      <th>6</th>\n",
       "      <td>7</td>\n",
       "      <td>0</td>\n",
       "      <td>1</td>\n",
       "      <td>McCarthy, Mr. Timothy J</td>\n",
       "      <td>male</td>\n",
       "      <td>54.0</td>\n",
       "      <td>0</td>\n",
       "      <td>0</td>\n",
       "      <td>17463</td>\n",
       "      <td>51.8625</td>\n",
       "      <td>E46</td>\n",
       "      <td>S</td>\n",
       "    </tr>\n",
       "    <tr>\n",
       "      <th>7</th>\n",
       "      <td>8</td>\n",
       "      <td>0</td>\n",
       "      <td>3</td>\n",
       "      <td>Palsson, Master. Gosta Leonard</td>\n",
       "      <td>male</td>\n",
       "      <td>2.0</td>\n",
       "      <td>3</td>\n",
       "      <td>1</td>\n",
       "      <td>349909</td>\n",
       "      <td>21.0750</td>\n",
       "      <td>NaN</td>\n",
       "      <td>S</td>\n",
       "    </tr>\n",
       "    <tr>\n",
       "      <th>8</th>\n",
       "      <td>9</td>\n",
       "      <td>1</td>\n",
       "      <td>3</td>\n",
       "      <td>Johnson, Mrs. Oscar W (Elisabeth Vilhelmina Berg)</td>\n",
       "      <td>female</td>\n",
       "      <td>27.0</td>\n",
       "      <td>0</td>\n",
       "      <td>2</td>\n",
       "      <td>347742</td>\n",
       "      <td>11.1333</td>\n",
       "      <td>NaN</td>\n",
       "      <td>S</td>\n",
       "    </tr>\n",
       "    <tr>\n",
       "      <th>9</th>\n",
       "      <td>10</td>\n",
       "      <td>1</td>\n",
       "      <td>2</td>\n",
       "      <td>Nasser, Mrs. Nicholas (Adele Achem)</td>\n",
       "      <td>female</td>\n",
       "      <td>14.0</td>\n",
       "      <td>1</td>\n",
       "      <td>0</td>\n",
       "      <td>237736</td>\n",
       "      <td>30.0708</td>\n",
       "      <td>NaN</td>\n",
       "      <td>C</td>\n",
       "    </tr>\n",
       "  </tbody>\n",
       "</table>\n",
       "</div>"
      ],
      "text/plain": [
       "   PassengerId  Survived  Class  \\\n",
       "0            1         0      3   \n",
       "1            2         1      1   \n",
       "2            3         1      3   \n",
       "3            4         1      1   \n",
       "4            5         0      3   \n",
       "5            6         0      3   \n",
       "6            7         0      1   \n",
       "7            8         0      3   \n",
       "8            9         1      3   \n",
       "9           10         1      2   \n",
       "\n",
       "                                                Name     Sex   Age  \\\n",
       "0                            Braund, Mr. Owen Harris    male  22.0   \n",
       "1  Cumings, Mrs. John Bradley (Florence Briggs Th...  female  38.0   \n",
       "2                             Heikkinen, Miss. Laina  female  26.0   \n",
       "3       Futrelle, Mrs. Jacques Heath (Lily May Peel)  female  35.0   \n",
       "4                           Allen, Mr. William Henry    male  35.0   \n",
       "5                                   Moran, Mr. James    male   NaN   \n",
       "6                            McCarthy, Mr. Timothy J    male  54.0   \n",
       "7                     Palsson, Master. Gosta Leonard    male   2.0   \n",
       "8  Johnson, Mrs. Oscar W (Elisabeth Vilhelmina Berg)  female  27.0   \n",
       "9                Nasser, Mrs. Nicholas (Adele Achem)  female  14.0   \n",
       "\n",
       "   Horizontal  Vertical            Ticket    Price Cabin Embarked  \n",
       "0           1         0         A/5 21171   7.2500   NaN        S  \n",
       "1           1         0          PC 17599  71.2833   C85        C  \n",
       "2           0         0  STON/O2. 3101282   7.9250   NaN        S  \n",
       "3           1         0            113803  53.1000  C123        S  \n",
       "4           0         0            373450   8.0500   NaN        S  \n",
       "5           0         0            330877   8.4583   NaN        Q  \n",
       "6           0         0             17463  51.8625   E46        S  \n",
       "7           3         1            349909  21.0750   NaN        S  \n",
       "8           0         2            347742  11.1333   NaN        S  \n",
       "9           1         0            237736  30.0708   NaN        C  "
      ]
     },
     "execution_count": 12,
     "metadata": {},
     "output_type": "execute_result"
    }
   ],
   "source": [
    "train.head(10)"
   ]
  },
  {
   "cell_type": "code",
   "execution_count": 13,
   "metadata": {},
   "outputs": [],
   "source": [
    "train['Age'] = train['Age'].fillna(train['Age'].median())\n",
    "kaggle['Age'] = kaggle['Age'].fillna(kaggle['Age'].median())"
   ]
  },
  {
   "cell_type": "code",
   "execution_count": 14,
   "metadata": {},
   "outputs": [
    {
     "data": {
      "image/png": "[encoded data removed]",
      "text/plain": [
       "<matplotlib.figure.Figure at 0x12d30dfc518>"
      ]
     },
     "metadata": {},
     "output_type": "display_data"
    }
   ],
   "source": [
    "facet = sns.FacetGrid(train, hue=\"Survived\",aspect=3)\n",
    "facet.map(sns.kdeplot,'Age',shade= True)\n",
    "facet.set(xlim=(0, train['Age'].max()))\n",
    "facet.add_legend()\n",
    "plt.show() "
   ]
  },
  {
   "cell_type": "code",
   "execution_count": 15,
   "metadata": {},
   "outputs": [
    {
     "data": {
      "text/plain": [
       "(0, 20)"
      ]
     },
     "execution_count": 15,
     "metadata": {},
     "output_type": "execute_result"
    },
    {
     "data": {
      "image/png": "[encoded data removed]",
      "text/plain": [
       "<matplotlib.figure.Figure at 0x12d30e5de80>"
      ]
     },
     "metadata": {},
     "output_type": "display_data"
    }
   ],
   "source": [
    "facet = sns.FacetGrid(train, hue=\"Survived\",aspect=3)\n",
    "facet.map(sns.kdeplot,'Age',shade= True)\n",
    "facet.set(xlim=(0, train['Age'].max()))\n",
    "facet.add_legend()\n",
    "plt.xlim(0, 20)"
   ]
  },
  {
   "cell_type": "code",
   "execution_count": 16,
   "metadata": {},
   "outputs": [
    {
     "data": {
      "text/plain": [
       "(20, 30)"
      ]
     },
     "execution_count": 16,
     "metadata": {},
     "output_type": "execute_result"
    },
    {
     "data": {
      "image/png": "[encoded data removed]",
      "text/plain": [
       "<matplotlib.figure.Figure at 0x12d30f60390>"
      ]
     },
     "metadata": {},
     "output_type": "display_data"
    }
   ],
   "source": [
    "facet = sns.FacetGrid(train, hue=\"Survived\",aspect=3)\n",
    "facet.map(sns.kdeplot,'Age',shade= True)\n",
    "facet.set(xlim=(0, train['Age'].max()))\n",
    "facet.add_legend()\n",
    "plt.xlim(20, 30)"
   ]
  },
  {
   "cell_type": "code",
   "execution_count": 17,
   "metadata": {},
   "outputs": [
    {
     "data": {
      "text/plain": [
       "(30, 60)"
      ]
     },
     "execution_count": 17,
     "metadata": {},
     "output_type": "execute_result"
    },
    {
     "data": {
      "image/png": "[encoded data removed]",
      "text/plain": [
       "<matplotlib.figure.Figure at 0x12d30df1eb8>"
      ]
     },
     "metadata": {},
     "output_type": "display_data"
    }
   ],
   "source": [
    "facet = sns.FacetGrid(train, hue=\"Survived\",aspect=3)\n",
    "facet.map(sns.kdeplot,'Age',shade= True)\n",
    "facet.set(xlim=(0, train['Age'].max()))\n",
    "facet.add_legend()\n",
    "plt.xlim(30, 60)"
   ]
  },
  {
   "cell_type": "code",
   "execution_count": 18,
   "metadata": {},
   "outputs": [
    {
     "data": {
      "text/plain": [
       "(60, 80)"
      ]
     },
     "execution_count": 18,
     "metadata": {},
     "output_type": "execute_result"
    },
    {
     "data": {
      "image/png": "[encoded data removed]",
      "text/plain": [
       "<matplotlib.figure.Figure at 0x12d310d9828>"
      ]
     },
     "metadata": {},
     "output_type": "display_data"
    }
   ],
   "source": [
    "facet = sns.FacetGrid(train, hue=\"Survived\",aspect=3)\n",
    "facet.map(sns.kdeplot,'Age',shade= True)\n",
    "facet.set(xlim=(0, train['Age'].max()))\n",
    "facet.add_legend()\n",
    "plt.xlim(60, 80)"
   ]
  },
  {
   "cell_type": "markdown",
   "metadata": {},
   "source": [
    "> *** Famille Horizontal = frères, soeurs, époux (ancienne colonne 'SibSp')***"
   ]
  },
  {
   "cell_type": "code",
   "execution_count": 19,
   "metadata": {},
   "outputs": [
    {
     "data": {
      "image/png": "[encoded data removed]",
      "text/plain": [
       "<matplotlib.figure.Figure at 0x12d30f48400>"
      ]
     },
     "metadata": {},
     "output_type": "display_data"
    }
   ],
   "source": [
    "bar_chart('Horizontal')"
   ]
  },
  {
   "cell_type": "markdown",
   "metadata": {},
   "source": [
    "> ***Famille Vertical = parents ou enfants (ancienne colonne 'Parch')***"
   ]
  },
  {
   "cell_type": "code",
   "execution_count": 20,
   "metadata": {},
   "outputs": [
    {
     "data": {
      "image/png": "[encoded data removed]",
      "text/plain": [
       "<matplotlib.figure.Figure at 0x12d2a2b87f0>"
      ]
     },
     "metadata": {},
     "output_type": "display_data"
    }
   ],
   "source": [
    "bar_chart('Vertical')"
   ]
  },
  {
   "cell_type": "markdown",
   "metadata": {},
   "source": [
    "Le graphique confirme qu'une personne à bord avec plus de 2 parents ou enfants a plus de chance de survie. \n",
    "Le graphique confirme qu'une personne à bord seule a plus de chance de mourrir. "
   ]
  },
  {
   "cell_type": "markdown",
   "metadata": {},
   "source": [
    "> *** Family ***"
   ]
  },
  {
   "cell_type": "code",
   "execution_count": 21,
   "metadata": {},
   "outputs": [],
   "source": [
    "train[\"Family\"] =  train[\"Horizontal\"] + train[\"Vertical\"] + 1\n",
    "kaggle[\"Family\"] = kaggle[\"Horizontal\"] + kaggle[\"Vertical\"] + 1"
   ]
  },
  {
   "cell_type": "code",
   "execution_count": 22,
   "metadata": {},
   "outputs": [
    {
     "data": {
      "text/plain": [
       "(0, 11.0)"
      ]
     },
     "execution_count": 22,
     "metadata": {},
     "output_type": "execute_result"
    },
    {
     "data": {
      "image/png": "[encoded data removed]",
      "text/plain": [
       "<matplotlib.figure.Figure at 0x12d30e03c88>"
      ]
     },
     "metadata": {},
     "output_type": "display_data"
    }
   ],
   "source": [
    "facet = sns.FacetGrid(train, hue=\"Survived\",aspect=3)\n",
    "facet.map(sns.kdeplot,'Family',shade= True)\n",
    "facet.set(xlim=(0, train['Family'].max()))\n",
    "facet.add_legend()\n",
    "plt.xlim(0)"
   ]
  },
  {
   "cell_type": "code",
   "execution_count": 23,
   "metadata": {},
   "outputs": [
    {
     "data": {
      "text/plain": [
       "(0, 4)"
      ]
     },
     "execution_count": 23,
     "metadata": {},
     "output_type": "execute_result"
    },
    {
     "data": {
      "image/png": "[encoded data removed]",
      "text/plain": [
       "<matplotlib.figure.Figure at 0x12d30dcaf60>"
      ]
     },
     "metadata": {},
     "output_type": "display_data"
    }
   ],
   "source": [
    "facet = sns.FacetGrid(train, hue=\"Survived\",aspect=3)\n",
    "facet.map(sns.kdeplot,'Family',shade= True)\n",
    "facet.set(xlim=(0, train['Family'].max()))\n",
    "facet.add_legend()\n",
    "plt.xlim(0,4)"
   ]
  },
  {
   "cell_type": "markdown",
   "metadata": {},
   "source": [
    "> ***Price : prix payé par un passager (ancienne colonne 'Fare')***"
   ]
  },
  {
   "cell_type": "raw",
   "metadata": {},
   "source": [
    "train[\"Price\"].fillna(train.groupby(\"Class\")[\"Price\"].transform(\"median\"), inplace=True)\n",
    "kaggle[\"Price\"].fillna(kaggle.groupby(\"Class\")[\"Price\"].transform(\"median\"), inplace=True)"
   ]
  },
  {
   "cell_type": "code",
   "execution_count": 24,
   "metadata": {},
   "outputs": [
    {
     "data": {
      "image/png": "[encoded data removed]",
      "text/plain": [
       "<matplotlib.figure.Figure at 0x12d30dbcc18>"
      ]
     },
     "metadata": {},
     "output_type": "display_data"
    }
   ],
   "source": [
    "facet = sns.FacetGrid(train, hue=\"Survived\",aspect=3)\n",
    "facet.map(sns.kdeplot, 'Price',shade= True)\n",
    "facet.set(xlim=(0, train['Price'].max()))\n",
    "facet.add_legend()\n",
    "plt.show()  "
   ]
  },
  {
   "cell_type": "code",
   "execution_count": 25,
   "metadata": {},
   "outputs": [
    {
     "data": {
      "text/plain": [
       "(0, 100)"
      ]
     },
     "execution_count": 25,
     "metadata": {},
     "output_type": "execute_result"
    },
    {
     "data": {
      "image/png": "[encoded data removed]",
      "text/plain": [
       "<matplotlib.figure.Figure at 0x12d31270320>"
      ]
     },
     "metadata": {},
     "output_type": "display_data"
    }
   ],
   "source": [
    "facet = sns.FacetGrid(train, hue=\"Survived\",aspect=3)\n",
    "facet.map(sns.kdeplot, 'Price',shade= True)\n",
    "facet.set(xlim=(0, train['Price'].max()))\n",
    "facet.add_legend()\n",
    "plt.xlim(0, 100)"
   ]
  },
  {
   "cell_type": "markdown",
   "metadata": {},
   "source": [
    "# Etape 2 - Feature engineering"
   ]
  },
  {
   "cell_type": "code",
   "execution_count": null,
   "metadata": {},
   "outputs": [],
   "source": []
  },
  {
   "cell_type": "markdown",
   "metadata": {},
   "source": [
    "> ***Traitement des données des datasets train et test***"
   ]
  },
  {
   "cell_type": "markdown",
   "metadata": {},
   "source": [
    "***#PARTIE DE NISHA ET ADRIEN A RAJOUTER#***"
   ]
  },
  {
   "cell_type": "code",
   "execution_count": 66,
   "metadata": {},
   "outputs": [],
   "source": [
    "train = pd.read_csv(\"train.csv\")\n",
    "kaggle = pd.read_csv(\"test.csv\")\n",
    "naan = pd.read_csv(\"naan.csv\")\n",
    "#Suppression de la colonne cabine qui nous est d'aucune utilitée.\n",
    "train = train.drop(\"Cabin\",axis = 1)\n",
    "kaggle = kaggle.drop(\"Cabin\",axis = 1)\n",
    "#on renomme les colonnes afin qu'elles soient plus parlantes.\n",
    "train = train.rename(index=str, columns={\"Pclass\": \"Class\", \n",
    "                                 \"SibSp\": \"F/S ou M/F\",\n",
    "                                 \"Parch\": \"P/E\",\n",
    "                                 \"Fare\": \"Price\"})\n",
    "\n",
    "kaggle = kaggle.rename(index=str, columns={\"Pclass\": \"Class\", \n",
    "                                 \"SibSp\": \"F/S ou M/F\",\n",
    "                                 \"Parch\": \"P/E\",\n",
    "                                 \"Fare\": \"Price\"})\n",
    "\n",
    "kaggle['Price'] = kaggle['Price'].fillna(kaggle['Price'].median())\n",
    "naan['Price'] = naan['Price'].fillna(naan['Price'].median())"
   ]
  },
  {
   "cell_type": "markdown",
   "metadata": {},
   "source": [
    "> ***'Sex'***\n"
   ]
  },
  {
   "cell_type": "code",
   "execution_count": 67,
   "metadata": {},
   "outputs": [],
   "source": [
    "# on recode la colonne Sex en encondant les nouvelles colonnes H et F\n",
    "recode = {\"male\":0,\"female\":1}\n",
    "train = train.replace({\"Sex\":recode})\n",
    "kaggle = kaggle.replace({\"Sex\":recode})\n",
    "train_test = pd.DataFrame(train[\"Sex\"])\n",
    "kaggle_test = pd.DataFrame(kaggle[\"Sex\"])\n",
    "train_test = pd.get_dummies(train[\"Sex\"])\n",
    "kaggle_test = pd.get_dummies(kaggle[\"Sex\"])\n",
    "train = pd.concat([train,train_test],axis = 1)\n",
    "train=train.rename(columns = {0:'H',1:'F'})\n",
    "kaggle = pd.concat([kaggle,kaggle_test],axis = 1)\n",
    "kaggle=kaggle.rename(columns = {0:'H',1:'F'})"
   ]
  },
  {
   "cell_type": "markdown",
   "metadata": {},
   "source": [
    "#    Embarked"
   ]
  },
  {
   "cell_type": "code",
   "execution_count": 68,
   "metadata": {},
   "outputs": [
    {
     "name": "stderr",
     "output_type": "stream",
     "text": [
      "C:\\Users\\Adrien Morla\\AppData\\Local\\Continuum\\anaconda3\\lib\\site-packages\\pandas\\core\\indexing.py:194: SettingWithCopyWarning: \n",
      "A value is trying to be set on a copy of a slice from a DataFrame\n",
      "\n",
      "See the caveats in the documentation: http://pandas.pydata.org/pandas-docs/stable/indexing.html#indexing-view-versus-copy\n",
      "  self._setitem_with_indexer(indexer, value)\n"
     ]
    }
   ],
   "source": [
    "# On recode la colonne Embarked en encodant les nouvelles colonnes S, C et Q.\n",
    "mask = train[\"Embarked\"].astype(\"str\") == \"nan\"\n",
    "train[\"Embarked\"].loc[mask] = \"S\"\n",
    "recode = {'S': 1,'C': 2,'Q': 3}\n",
    "train = train.replace({'Embarked' : recode})\n",
    "kaggle = kaggle.replace({'Embarked' : recode})\n",
    "train_test = pd.DataFrame(train[\"Embarked\"])\n",
    "kaggle_test = pd.DataFrame(kaggle[\"Embarked\"])\n",
    "train_test = pd.get_dummies(train[\"Embarked\"])\n",
    "kaggle_test = pd.get_dummies(kaggle[\"Embarked\"])\n",
    "train = pd.concat([train,train_test],axis = 1)\n",
    "train=train.rename(columns = {1:'Southampton',2:'Cherbourg',3:'Queenstown'})\n",
    "kaggle = pd.concat([kaggle,kaggle_test],axis = 1)\n",
    "kaggle=kaggle.rename(columns = {1:'Southampton',2:'Cherbourg',3:'Queenstown'})"
   ]
  },
  {
   "cell_type": "code",
   "execution_count": 69,
   "metadata": {},
   "outputs": [],
   "source": [
    "#celà fonctionne malgré ce message d'erreur."
   ]
  },
  {
   "cell_type": "markdown",
   "metadata": {},
   "source": [
    "> ***'Age'***"
   ]
  },
  {
   "cell_type": "code",
   "execution_count": 70,
   "metadata": {},
   "outputs": [],
   "source": [
    "# on ajoute la colonne \"age_categ\" sur le df train.\n",
    "def process_age(train,cut_points,label_names):\n",
    "    train[\"Age\"] = train[\"Age\"].fillna(-0.5)\n",
    "    train[\"Age_categories\"] = pd.cut(train[\"Age\"],cut_points,labels=label_names)\n",
    "    return train\n",
    "\n",
    "cut_points = [-1,0,5,12,18,35,60,100]\n",
    "label_names = [\"Missing\",\"Infant\",\"Child\",\"Teenager\",\"Young Adult\",\"Adult\",\"Senior\"]\n",
    "train = process_age(train,cut_points,label_names)\n",
    "\n",
    "# on ajoute la colonne \"age_categ\" sur le df kaggle.\n",
    "def process_age(kaggle,cut_points,label_names):\n",
    "    kaggle[\"Age\"] = kaggle[\"Age\"].fillna(-0.5)\n",
    "    kaggle[\"Age_categories\"] = pd.cut(kaggle[\"Age\"],cut_points,labels=label_names)\n",
    "    return kaggle\n",
    "\n",
    "cut_points = [-1,0,5,12,18,35,60,100]\n",
    "label_names = [\"Missing\",\"Infant\",\"Child\",\"Teenager\",\"Young Adult\",\"Adult\",\"Senior\"]\n",
    "kaggle = process_age(kaggle,cut_points,label_names)"
   ]
  },
  {
   "cell_type": "code",
   "execution_count": 71,
   "metadata": {},
   "outputs": [],
   "source": [
    "#on recode la colonne Age_catégories en encodant les nouvelles colonnes Missing, Infant....\n",
    "train_test = pd.DataFrame(train[\"Age_categories\"])\n",
    "kaggle_test = pd.DataFrame(kaggle[\"Age_categories\"])\n",
    "train_test = pd.get_dummies(train[\"Age_categories\"])\n",
    "kaggle_test = pd.get_dummies(kaggle[\"Age_categories\"])\n",
    "train = pd.concat([train,train_test],axis = 1)\n",
    "train=train.rename(columns = {1:\"Missing\",2:\"Infant\",3:\"Child\",4:\"Teenager\",5:\"Young Adult\",6:\"Adult\",7:\"Senior\"})\n",
    "kaggle = pd.concat([kaggle,kaggle_test],axis = 1)\n",
    "kaggle=kaggle.rename(columns = {1:\"Missing\",2:\"Infant\",3:\"Child\",4:\"Teenager\",5:\"Young Adult\",6:\"Adult\",7:\"Senior\"})"
   ]
  },
  {
   "cell_type": "markdown",
   "metadata": {},
   "source": [
    "> ***'Class'***"
   ]
  },
  {
   "cell_type": "code",
   "execution_count": 72,
   "metadata": {},
   "outputs": [],
   "source": [
    "# on recode la colonne Pclass en encodant les nouvelles colonnes Pclass1, 2 et 3.\n",
    "train_test = pd.DataFrame(train[\"Class\"])\n",
    "kaggle_test = pd.DataFrame(kaggle[\"Class\"])\n",
    "train_test = pd.get_dummies(train[\"Class\"])\n",
    "kaggle_test = pd.get_dummies(kaggle[\"Class\"])\n",
    "train = pd.concat([train,train_test],axis = 1)\n",
    "train=train.rename(columns = {1:'Class1',2:'Class2',3:'Class3'})\n",
    "kaggle = pd.concat([kaggle,kaggle_test],axis = 1)\n",
    "kaggle=kaggle.rename(columns = {1:'Class1',2:'Class2',3:'Class3'})"
   ]
  },
  {
   "cell_type": "markdown",
   "metadata": {},
   "source": [
    "> ***'Titre' ***"
   ]
  },
  {
   "cell_type": "code",
   "execution_count": 73,
   "metadata": {},
   "outputs": [],
   "source": [
    "# on recode la colonne nom en encodant les nouvelles colonnes des titres.\n",
    "train[\"Titre\"] = train[\"Name\"].str.extract(\"([a-zA-Z]+\\.)\",expand=False)\n",
    "kaggle[\"Titre\"] = kaggle[\"Name\"].str.extract(\"([a-zA-Z]+\\.)\",expand=False)\n",
    "train_test = pd.DataFrame(train[\"Titre\"])\n",
    "kaggle_test = pd.DataFrame(kaggle[\"Titre\"])\n",
    "train_test = pd.get_dummies(train[\"Titre\"])\n",
    "kaggle_test = pd.get_dummies(kaggle[\"Titre\"])\n",
    "train = pd.concat([train,train_test],axis = 1)\n",
    "train=train.rename(columns = {1:'Mr.',2:'Mrs.',3:'Miss.',4:'Master.',5:'Don.',6:'Rev.', 7:'Dr.', 8:'Mme.', 9:'Ms.', 10: 'Major.'\n",
    ", 11: 'Lady.', 12: 'Sir.', 13: 'Mlle.', 14: 'Col.', 15: 'Capt.',16: 'Countess.', 17: 'Jonkheer.'})\n",
    "kaggle = pd.concat([kaggle,kaggle_test],axis = 1)\n",
    "kaggle=kaggle.rename(columns = {1:'Mr.',2:'Mrs.',3:'Miss.',4:'Master.',5:'Don.',6:'Rev.', 7:'Dr.', 8:'Mme.', 9:'Ms.', 10: 'Major.'\n",
    ", 11: 'Lady.', 12: 'Sir.', 13: 'Mlle.', 14: 'Col.', 15: 'Capt.',16: 'Countess.', 17: 'Jonkheer.'})"
   ]
  },
  {
   "cell_type": "code",
   "execution_count": 74,
   "metadata": {},
   "outputs": [],
   "source": [
    "# Suppression des valeurs inutiles\n",
    "train = (train.drop(['Class','Embarked','Sex',\"Ticket\",\"Titre\"], axis = 1))\n",
    "kaggle = (kaggle.drop(['Class','Embarked','Sex',\"Ticket\",\"Titre\"], axis = 1))"
   ]
  },
  {
   "cell_type": "code",
   "execution_count": 78,
   "metadata": {},
   "outputs": [
    {
     "name": "stdout",
     "output_type": "stream",
     "text": [
      "     PassengerId  Survived                                               Name  \\\n",
      "0              1         0                            Braund, Mr. Owen Harris   \n",
      "1              2         1  Cumings, Mrs. John Bradley (Florence Briggs Th...   \n",
      "2              3         1                             Heikkinen, Miss. Laina   \n",
      "3              4         1       Futrelle, Mrs. Jacques Heath (Lily May Peel)   \n",
      "4              5         0                           Allen, Mr. William Henry   \n",
      "5              6         0                                   Moran, Mr. James   \n",
      "6              7         0                            McCarthy, Mr. Timothy J   \n",
      "7              8         0                     Palsson, Master. Gosta Leonard   \n",
      "8              9         1  Johnson, Mrs. Oscar W (Elisabeth Vilhelmina Berg)   \n",
      "9             10         1                Nasser, Mrs. Nicholas (Adele Achem)   \n",
      "10            11         1                    Sandstrom, Miss. Marguerite Rut   \n",
      "11            12         1                           Bonnell, Miss. Elizabeth   \n",
      "12            13         0                     Saundercock, Mr. William Henry   \n",
      "13            14         0                        Andersson, Mr. Anders Johan   \n",
      "14            15         0               Vestrom, Miss. Hulda Amanda Adolfina   \n",
      "15            16         1                   Hewlett, Mrs. (Mary D Kingcome)    \n",
      "16            17         0                               Rice, Master. Eugene   \n",
      "17            18         1                       Williams, Mr. Charles Eugene   \n",
      "18            19         0  Vander Planke, Mrs. Julius (Emelia Maria Vande...   \n",
      "19            20         1                            Masselmani, Mrs. Fatima   \n",
      "20            21         0                               Fynney, Mr. Joseph J   \n",
      "21            22         1                              Beesley, Mr. Lawrence   \n",
      "22            23         1                        McGowan, Miss. Anna \"Annie\"   \n",
      "23            24         1                       Sloper, Mr. William Thompson   \n",
      "24            25         0                      Palsson, Miss. Torborg Danira   \n",
      "25            26         1  Asplund, Mrs. Carl Oscar (Selma Augusta Emilia...   \n",
      "26            27         0                            Emir, Mr. Farred Chehab   \n",
      "27            28         0                     Fortune, Mr. Charles Alexander   \n",
      "28            29         1                      O'Dwyer, Miss. Ellen \"Nellie\"   \n",
      "29            30         0                                Todoroff, Mr. Lalio   \n",
      "..           ...       ...                                                ...   \n",
      "861          862         0                        Giles, Mr. Frederick Edward   \n",
      "862          863         1  Swift, Mrs. Frederick Joel (Margaret Welles Ba...   \n",
      "863          864         0                  Sage, Miss. Dorothy Edith \"Dolly\"   \n",
      "864          865         0                             Gill, Mr. John William   \n",
      "865          866         1                           Bystrom, Mrs. (Karolina)   \n",
      "866          867         1                       Duran y More, Miss. Asuncion   \n",
      "867          868         0               Roebling, Mr. Washington Augustus II   \n",
      "868          869         0                        van Melkebeke, Mr. Philemon   \n",
      "869          870         1                    Johnson, Master. Harold Theodor   \n",
      "870          871         0                                  Balkic, Mr. Cerin   \n",
      "871          872         1   Beckwith, Mrs. Richard Leonard (Sallie Monypeny)   \n",
      "872          873         0                           Carlsson, Mr. Frans Olof   \n",
      "873          874         0                        Vander Cruyssen, Mr. Victor   \n",
      "874          875         1              Abelson, Mrs. Samuel (Hannah Wizosky)   \n",
      "875          876         1                   Najib, Miss. Adele Kiamie \"Jane\"   \n",
      "876          877         0                      Gustafsson, Mr. Alfred Ossian   \n",
      "877          878         0                               Petroff, Mr. Nedelio   \n",
      "878          879         0                                 Laleff, Mr. Kristo   \n",
      "879          880         1      Potter, Mrs. Thomas Jr (Lily Alexenia Wilson)   \n",
      "880          881         1       Shelley, Mrs. William (Imanita Parrish Hall)   \n",
      "881          882         0                                 Markun, Mr. Johann   \n",
      "882          883         0                       Dahlberg, Miss. Gerda Ulrika   \n",
      "883          884         0                      Banfield, Mr. Frederick James   \n",
      "884          885         0                             Sutehall, Mr. Henry Jr   \n",
      "885          886         0               Rice, Mrs. William (Margaret Norton)   \n",
      "886          887         0                              Montvila, Rev. Juozas   \n",
      "887          888         1                       Graham, Miss. Margaret Edith   \n",
      "888          889         0           Johnston, Miss. Catherine Helen \"Carrie\"   \n",
      "889          890         1                              Behr, Mr. Karl Howell   \n",
      "890          891         0                                Dooley, Mr. Patrick   \n",
      "\n",
      "      Age  F/S ou M/F  P/E     Price  H  F  Southampton  ...   Major.  \\\n",
      "0    22.0           1    0    7.2500  1  0            1  ...        0   \n",
      "1    38.0           1    0   71.2833  0  1            0  ...        0   \n",
      "2    26.0           0    0    7.9250  0  1            1  ...        0   \n",
      "3    35.0           1    0   53.1000  0  1            1  ...        0   \n",
      "4    35.0           0    0    8.0500  1  0            1  ...        0   \n",
      "5    -0.5           0    0    8.4583  1  0            0  ...        0   \n",
      "6    54.0           0    0   51.8625  1  0            1  ...        0   \n",
      "7     2.0           3    1   21.0750  1  0            1  ...        0   \n",
      "8    27.0           0    2   11.1333  0  1            1  ...        0   \n",
      "9    14.0           1    0   30.0708  0  1            0  ...        0   \n",
      "10    4.0           1    1   16.7000  0  1            1  ...        0   \n",
      "11   58.0           0    0   26.5500  0  1            1  ...        0   \n",
      "12   20.0           0    0    8.0500  1  0            1  ...        0   \n",
      "13   39.0           1    5   31.2750  1  0            1  ...        0   \n",
      "14   14.0           0    0    7.8542  0  1            1  ...        0   \n",
      "15   55.0           0    0   16.0000  0  1            1  ...        0   \n",
      "16    2.0           4    1   29.1250  1  0            0  ...        0   \n",
      "17   -0.5           0    0   13.0000  1  0            1  ...        0   \n",
      "18   31.0           1    0   18.0000  0  1            1  ...        0   \n",
      "19   -0.5           0    0    7.2250  0  1            0  ...        0   \n",
      "20   35.0           0    0   26.0000  1  0            1  ...        0   \n",
      "21   34.0           0    0   13.0000  1  0            1  ...        0   \n",
      "22   15.0           0    0    8.0292  0  1            0  ...        0   \n",
      "23   28.0           0    0   35.5000  1  0            1  ...        0   \n",
      "24    8.0           3    1   21.0750  0  1            1  ...        0   \n",
      "25   38.0           1    5   31.3875  0  1            1  ...        0   \n",
      "26   -0.5           0    0    7.2250  1  0            0  ...        0   \n",
      "27   19.0           3    2  263.0000  1  0            1  ...        0   \n",
      "28   -0.5           0    0    7.8792  0  1            0  ...        0   \n",
      "29   -0.5           0    0    7.8958  1  0            1  ...        0   \n",
      "..    ...         ...  ...       ... .. ..          ...  ...      ...   \n",
      "861  21.0           1    0   11.5000  1  0            1  ...        0   \n",
      "862  48.0           0    0   25.9292  0  1            1  ...        0   \n",
      "863  -0.5           8    2   69.5500  0  1            1  ...        0   \n",
      "864  24.0           0    0   13.0000  1  0            1  ...        0   \n",
      "865  42.0           0    0   13.0000  0  1            1  ...        0   \n",
      "866  27.0           1    0   13.8583  0  1            0  ...        0   \n",
      "867  31.0           0    0   50.4958  1  0            1  ...        0   \n",
      "868  -0.5           0    0    9.5000  1  0            1  ...        0   \n",
      "869   4.0           1    1   11.1333  1  0            1  ...        0   \n",
      "870  26.0           0    0    7.8958  1  0            1  ...        0   \n",
      "871  47.0           1    1   52.5542  0  1            1  ...        0   \n",
      "872  33.0           0    0    5.0000  1  0            1  ...        0   \n",
      "873  47.0           0    0    9.0000  1  0            1  ...        0   \n",
      "874  28.0           1    0   24.0000  0  1            0  ...        0   \n",
      "875  15.0           0    0    7.2250  0  1            0  ...        0   \n",
      "876  20.0           0    0    9.8458  1  0            1  ...        0   \n",
      "877  19.0           0    0    7.8958  1  0            1  ...        0   \n",
      "878  -0.5           0    0    7.8958  1  0            1  ...        0   \n",
      "879  56.0           0    1   83.1583  0  1            0  ...        0   \n",
      "880  25.0           0    1   26.0000  0  1            1  ...        0   \n",
      "881  33.0           0    0    7.8958  1  0            1  ...        0   \n",
      "882  22.0           0    0   10.5167  0  1            1  ...        0   \n",
      "883  28.0           0    0   10.5000  1  0            1  ...        0   \n",
      "884  25.0           0    0    7.0500  1  0            1  ...        0   \n",
      "885  39.0           0    5   29.1250  0  1            0  ...        0   \n",
      "886  27.0           0    0   13.0000  1  0            1  ...        0   \n",
      "887  19.0           0    0   30.0000  0  1            1  ...        0   \n",
      "888  -0.5           1    2   23.4500  0  1            1  ...        0   \n",
      "889  26.0           0    0   30.0000  1  0            0  ...        0   \n",
      "890  32.0           0    0    7.7500  1  0            0  ...        0   \n",
      "\n",
      "     Master. Miss.  Mlle.  Mme.  Mr.  Mrs.  Ms.  Rev.  Sir.  \n",
      "0          0     0      0     0    1     0    0     0     0  \n",
      "1          0     0      0     0    0     1    0     0     0  \n",
      "2          0     1      0     0    0     0    0     0     0  \n",
      "3          0     0      0     0    0     1    0     0     0  \n",
      "4          0     0      0     0    1     0    0     0     0  \n",
      "5          0     0      0     0    1     0    0     0     0  \n",
      "6          0     0      0     0    1     0    0     0     0  \n",
      "7          1     0      0     0    0     0    0     0     0  \n",
      "8          0     0      0     0    0     1    0     0     0  \n",
      "9          0     0      0     0    0     1    0     0     0  \n",
      "10         0     1      0     0    0     0    0     0     0  \n",
      "11         0     1      0     0    0     0    0     0     0  \n",
      "12         0     0      0     0    1     0    0     0     0  \n",
      "13         0     0      0     0    1     0    0     0     0  \n",
      "14         0     1      0     0    0     0    0     0     0  \n",
      "15         0     0      0     0    0     1    0     0     0  \n",
      "16         1     0      0     0    0     0    0     0     0  \n",
      "17         0     0      0     0    1     0    0     0     0  \n",
      "18         0     0      0     0    0     1    0     0     0  \n",
      "19         0     0      0     0    0     1    0     0     0  \n",
      "20         0     0      0     0    1     0    0     0     0  \n",
      "21         0     0      0     0    1     0    0     0     0  \n",
      "22         0     1      0     0    0     0    0     0     0  \n",
      "23         0     0      0     0    1     0    0     0     0  \n",
      "24         0     1      0     0    0     0    0     0     0  \n",
      "25         0     0      0     0    0     1    0     0     0  \n",
      "26         0     0      0     0    1     0    0     0     0  \n",
      "27         0     0      0     0    1     0    0     0     0  \n",
      "28         0     1      0     0    0     0    0     0     0  \n",
      "29         0     0      0     0    1     0    0     0     0  \n",
      "..       ...   ...    ...   ...  ...   ...  ...   ...   ...  \n",
      "861        0     0      0     0    1     0    0     0     0  \n",
      "862        0     0      0     0    0     1    0     0     0  \n",
      "863        0     1      0     0    0     0    0     0     0  \n",
      "864        0     0      0     0    1     0    0     0     0  \n",
      "865        0     0      0     0    0     1    0     0     0  \n",
      "866        0     1      0     0    0     0    0     0     0  \n",
      "867        0     0      0     0    1     0    0     0     0  \n",
      "868        0     0      0     0    1     0    0     0     0  \n",
      "869        1     0      0     0    0     0    0     0     0  \n",
      "870        0     0      0     0    1     0    0     0     0  \n",
      "871        0     0      0     0    0     1    0     0     0  \n",
      "872        0     0      0     0    1     0    0     0     0  \n",
      "873        0     0      0     0    1     0    0     0     0  \n",
      "874        0     0      0     0    0     1    0     0     0  \n",
      "875        0     1      0     0    0     0    0     0     0  \n",
      "876        0     0      0     0    1     0    0     0     0  \n",
      "877        0     0      0     0    1     0    0     0     0  \n",
      "878        0     0      0     0    1     0    0     0     0  \n",
      "879        0     0      0     0    0     1    0     0     0  \n",
      "880        0     0      0     0    0     1    0     0     0  \n",
      "881        0     0      0     0    1     0    0     0     0  \n",
      "882        0     1      0     0    0     0    0     0     0  \n",
      "883        0     0      0     0    1     0    0     0     0  \n",
      "884        0     0      0     0    1     0    0     0     0  \n",
      "885        0     0      0     0    0     1    0     0     0  \n",
      "886        0     0      0     0    0     0    0     1     0  \n",
      "887        0     1      0     0    0     0    0     0     0  \n",
      "888        0     1      0     0    0     0    0     0     0  \n",
      "889        0     0      0     0    1     0    0     0     0  \n",
      "890        0     0      0     0    1     0    0     0     0  \n",
      "\n",
      "[891 rows x 40 columns]\n",
      "     PassengerId                                               Name   Age  \\\n",
      "0            892                                   Kelly, Mr. James  34.5   \n",
      "1            893                   Wilkes, Mrs. James (Ellen Needs)  47.0   \n",
      "2            894                          Myles, Mr. Thomas Francis  62.0   \n",
      "3            895                                   Wirz, Mr. Albert  27.0   \n",
      "4            896       Hirvonen, Mrs. Alexander (Helga E Lindqvist)  22.0   \n",
      "5            897                         Svensson, Mr. Johan Cervin  14.0   \n",
      "6            898                               Connolly, Miss. Kate  30.0   \n",
      "7            899                       Caldwell, Mr. Albert Francis  26.0   \n",
      "8            900          Abrahim, Mrs. Joseph (Sophie Halaut Easu)  18.0   \n",
      "9            901                            Davies, Mr. John Samuel  21.0   \n",
      "10           902                                   Ilieff, Mr. Ylio  -0.5   \n",
      "11           903                         Jones, Mr. Charles Cresson  46.0   \n",
      "12           904      Snyder, Mrs. John Pillsbury (Nelle Stevenson)  23.0   \n",
      "13           905                               Howard, Mr. Benjamin  63.0   \n",
      "14           906  Chaffee, Mrs. Herbert Fuller (Carrie Constance...  47.0   \n",
      "15           907      del Carlo, Mrs. Sebastiano (Argenia Genovesi)  24.0   \n",
      "16           908                                  Keane, Mr. Daniel  35.0   \n",
      "17           909                                  Assaf, Mr. Gerios  21.0   \n",
      "18           910                       Ilmakangas, Miss. Ida Livija  27.0   \n",
      "19           911              Assaf Khalil, Mrs. Mariana (Miriam\")\"  45.0   \n",
      "20           912                             Rothschild, Mr. Martin  55.0   \n",
      "21           913                          Olsen, Master. Artur Karl   9.0   \n",
      "22           914               Flegenheim, Mrs. Alfred (Antoinette)  -0.5   \n",
      "23           915                    Williams, Mr. Richard Norris II  21.0   \n",
      "24           916    Ryerson, Mrs. Arthur Larned (Emily Maria Borie)  48.0   \n",
      "25           917                            Robins, Mr. Alexander A  50.0   \n",
      "26           918                       Ostby, Miss. Helene Ragnhild  22.0   \n",
      "27           919                                  Daher, Mr. Shedid  22.5   \n",
      "28           920                            Brady, Mr. John Bertram  41.0   \n",
      "29           921                                  Samaan, Mr. Elias  -0.5   \n",
      "..           ...                                                ...   ...   \n",
      "388         1280                               Canavan, Mr. Patrick  21.0   \n",
      "389         1281                        Palsson, Master. Paul Folke   6.0   \n",
      "390         1282                         Payne, Mr. Vivian Ponsonby  23.0   \n",
      "391         1283     Lines, Mrs. Ernest H (Elizabeth Lindsey James)  51.0   \n",
      "392         1284                      Abbott, Master. Eugene Joseph  13.0   \n",
      "393         1285                               Gilbert, Mr. William  47.0   \n",
      "394         1286                           Kink-Heilmann, Mr. Anton  29.0   \n",
      "395         1287     Smith, Mrs. Lucien Philip (Mary Eloise Hughes)  18.0   \n",
      "396         1288                               Colbert, Mr. Patrick  24.0   \n",
      "397         1289  Frolicher-Stehli, Mrs. Maxmillian (Margaretha ...  48.0   \n",
      "398         1290                     Larsson-Rondberg, Mr. Edvard A  22.0   \n",
      "399         1291                           Conlon, Mr. Thomas Henry  31.0   \n",
      "400         1292                            Bonnell, Miss. Caroline  30.0   \n",
      "401         1293                                    Gale, Mr. Harry  38.0   \n",
      "402         1294                     Gibson, Miss. Dorothy Winifred  22.0   \n",
      "403         1295                             Carrau, Mr. Jose Pedro  17.0   \n",
      "404         1296                       Frauenthal, Mr. Isaac Gerald  43.0   \n",
      "405         1297       Nourney, Mr. Alfred (Baron von Drachstedt\")\"  20.0   \n",
      "406         1298                          Ware, Mr. William Jeffery  23.0   \n",
      "407         1299                         Widener, Mr. George Dunton  50.0   \n",
      "408         1300                    Riordan, Miss. Johanna Hannah\"\"  -0.5   \n",
      "409         1301                          Peacock, Miss. Treasteall   3.0   \n",
      "410         1302                             Naughton, Miss. Hannah  -0.5   \n",
      "411         1303    Minahan, Mrs. William Edward (Lillian E Thorpe)  37.0   \n",
      "412         1304                     Henriksson, Miss. Jenny Lovisa  28.0   \n",
      "413         1305                                 Spector, Mr. Woolf  -0.5   \n",
      "414         1306                       Oliva y Ocana, Dona. Fermina  39.0   \n",
      "415         1307                       Saether, Mr. Simon Sivertsen  38.5   \n",
      "416         1308                                Ware, Mr. Frederick  -0.5   \n",
      "417         1309                           Peter, Master. Michael J  -0.5   \n",
      "\n",
      "     F/S ou M/F  P/E     Price  H  F  Southampton  Cherbourg  ...   Class3  \\\n",
      "0             0    0    7.8292  1  0            0          0  ...        1   \n",
      "1             1    0    7.0000  0  1            1          0  ...        1   \n",
      "2             0    0    9.6875  1  0            0          0  ...        0   \n",
      "3             0    0    8.6625  1  0            1          0  ...        1   \n",
      "4             1    1   12.2875  0  1            1          0  ...        1   \n",
      "5             0    0    9.2250  1  0            1          0  ...        1   \n",
      "6             0    0    7.6292  0  1            0          0  ...        1   \n",
      "7             1    1   29.0000  1  0            1          0  ...        0   \n",
      "8             0    0    7.2292  0  1            0          1  ...        1   \n",
      "9             2    0   24.1500  1  0            1          0  ...        1   \n",
      "10            0    0    7.8958  1  0            1          0  ...        1   \n",
      "11            0    0   26.0000  1  0            1          0  ...        0   \n",
      "12            1    0   82.2667  0  1            1          0  ...        0   \n",
      "13            1    0   26.0000  1  0            1          0  ...        0   \n",
      "14            1    0   61.1750  0  1            1          0  ...        0   \n",
      "15            1    0   27.7208  0  1            0          1  ...        0   \n",
      "16            0    0   12.3500  1  0            0          0  ...        0   \n",
      "17            0    0    7.2250  1  0            0          1  ...        1   \n",
      "18            1    0    7.9250  0  1            1          0  ...        1   \n",
      "19            0    0    7.2250  0  1            0          1  ...        1   \n",
      "20            1    0   59.4000  1  0            0          1  ...        0   \n",
      "21            0    1    3.1708  1  0            1          0  ...        1   \n",
      "22            0    0   31.6833  0  1            1          0  ...        0   \n",
      "23            0    1   61.3792  1  0            0          1  ...        0   \n",
      "24            1    3  262.3750  0  1            0          1  ...        0   \n",
      "25            1    0   14.5000  1  0            1          0  ...        1   \n",
      "26            0    1   61.9792  0  1            0          1  ...        0   \n",
      "27            0    0    7.2250  1  0            0          1  ...        1   \n",
      "28            0    0   30.5000  1  0            1          0  ...        0   \n",
      "29            2    0   21.6792  1  0            0          1  ...        1   \n",
      "..          ...  ...       ... .. ..          ...        ...  ...      ...   \n",
      "388           0    0    7.7500  1  0            0          0  ...        1   \n",
      "389           3    1   21.0750  1  0            1          0  ...        1   \n",
      "390           0    0   93.5000  1  0            1          0  ...        0   \n",
      "391           0    1   39.4000  0  1            1          0  ...        0   \n",
      "392           0    2   20.2500  1  0            1          0  ...        1   \n",
      "393           0    0   10.5000  1  0            1          0  ...        0   \n",
      "394           3    1   22.0250  1  0            1          0  ...        1   \n",
      "395           1    0   60.0000  0  1            1          0  ...        0   \n",
      "396           0    0    7.2500  1  0            0          0  ...        1   \n",
      "397           1    1   79.2000  0  1            0          1  ...        0   \n",
      "398           0    0    7.7750  1  0            1          0  ...        1   \n",
      "399           0    0    7.7333  1  0            0          0  ...        1   \n",
      "400           0    0  164.8667  0  1            1          0  ...        0   \n",
      "401           1    0   21.0000  1  0            1          0  ...        0   \n",
      "402           0    1   59.4000  0  1            0          1  ...        0   \n",
      "403           0    0   47.1000  1  0            1          0  ...        0   \n",
      "404           1    0   27.7208  1  0            0          1  ...        0   \n",
      "405           0    0   13.8625  1  0            0          1  ...        0   \n",
      "406           1    0   10.5000  1  0            1          0  ...        0   \n",
      "407           1    1  211.5000  1  0            0          1  ...        0   \n",
      "408           0    0    7.7208  0  1            0          0  ...        1   \n",
      "409           1    1   13.7750  0  1            1          0  ...        1   \n",
      "410           0    0    7.7500  0  1            0          0  ...        1   \n",
      "411           1    0   90.0000  0  1            0          0  ...        0   \n",
      "412           0    0    7.7750  0  1            1          0  ...        1   \n",
      "413           0    0    8.0500  1  0            1          0  ...        1   \n",
      "414           0    0  108.9000  0  1            0          1  ...        0   \n",
      "415           0    0    7.2500  1  0            1          0  ...        1   \n",
      "416           0    0    8.0500  1  0            1          0  ...        1   \n",
      "417           1    1   22.3583  1  0            0          1  ...        1   \n",
      "\n",
      "    Col.  Dona.  Dr.  Master.  Miss.  Mr.  Mrs.  Ms.  Rev.  \n",
      "0      0      0    0        0      0    1     0    0     0  \n",
      "1      0      0    0        0      0    0     1    0     0  \n",
      "2      0      0    0        0      0    1     0    0     0  \n",
      "3      0      0    0        0      0    1     0    0     0  \n",
      "4      0      0    0        0      0    0     1    0     0  \n",
      "5      0      0    0        0      0    1     0    0     0  \n",
      "6      0      0    0        0      1    0     0    0     0  \n",
      "7      0      0    0        0      0    1     0    0     0  \n",
      "8      0      0    0        0      0    0     1    0     0  \n",
      "9      0      0    0        0      0    1     0    0     0  \n",
      "10     0      0    0        0      0    1     0    0     0  \n",
      "11     0      0    0        0      0    1     0    0     0  \n",
      "12     0      0    0        0      0    0     1    0     0  \n",
      "13     0      0    0        0      0    1     0    0     0  \n",
      "14     0      0    0        0      0    0     1    0     0  \n",
      "15     0      0    0        0      0    0     1    0     0  \n",
      "16     0      0    0        0      0    1     0    0     0  \n",
      "17     0      0    0        0      0    1     0    0     0  \n",
      "18     0      0    0        0      1    0     0    0     0  \n",
      "19     0      0    0        0      0    0     1    0     0  \n",
      "20     0      0    0        0      0    1     0    0     0  \n",
      "21     0      0    0        1      0    0     0    0     0  \n",
      "22     0      0    0        0      0    0     1    0     0  \n",
      "23     0      0    0        0      0    1     0    0     0  \n",
      "24     0      0    0        0      0    0     1    0     0  \n",
      "25     0      0    0        0      0    1     0    0     0  \n",
      "26     0      0    0        0      1    0     0    0     0  \n",
      "27     0      0    0        0      0    1     0    0     0  \n",
      "28     0      0    0        0      0    1     0    0     0  \n",
      "29     0      0    0        0      0    1     0    0     0  \n",
      "..   ...    ...  ...      ...    ...  ...   ...  ...   ...  \n",
      "388    0      0    0        0      0    1     0    0     0  \n",
      "389    0      0    0        1      0    0     0    0     0  \n",
      "390    0      0    0        0      0    1     0    0     0  \n",
      "391    0      0    0        0      0    0     1    0     0  \n",
      "392    0      0    0        1      0    0     0    0     0  \n",
      "393    0      0    0        0      0    1     0    0     0  \n",
      "394    0      0    0        0      0    1     0    0     0  \n",
      "395    0      0    0        0      0    0     1    0     0  \n",
      "396    0      0    0        0      0    1     0    0     0  \n",
      "397    0      0    0        0      0    0     1    0     0  \n",
      "398    0      0    0        0      0    1     0    0     0  \n",
      "399    0      0    0        0      0    1     0    0     0  \n",
      "400    0      0    0        0      1    0     0    0     0  \n",
      "401    0      0    0        0      0    1     0    0     0  \n",
      "402    0      0    0        0      1    0     0    0     0  \n",
      "403    0      0    0        0      0    1     0    0     0  \n",
      "404    0      0    0        0      0    1     0    0     0  \n",
      "405    0      0    0        0      0    1     0    0     0  \n",
      "406    0      0    0        0      0    1     0    0     0  \n",
      "407    0      0    0        0      0    1     0    0     0  \n",
      "408    0      0    0        0      1    0     0    0     0  \n",
      "409    0      0    0        0      1    0     0    0     0  \n",
      "410    0      0    0        0      1    0     0    0     0  \n",
      "411    0      0    0        0      0    0     1    0     0  \n",
      "412    0      0    0        0      1    0     0    0     0  \n",
      "413    0      0    0        0      0    1     0    0     0  \n",
      "414    0      1    0        0      0    0     0    0     0  \n",
      "415    0      0    0        0      0    1     0    0     0  \n",
      "416    0      0    0        0      0    1     0    0     0  \n",
      "417    0      0    0        1      0    0     0    0     0  \n",
      "\n",
      "[418 rows x 31 columns]\n"
     ]
    }
   ],
   "source": [
    "print(train)\n",
    "print(kaggle)"
   ]
  },
  {
   "cell_type": "markdown",
   "metadata": {},
   "source": [
    "# Etape 3- Entraînement et prédiction"
   ]
  },
  {
   "cell_type": "code",
   "execution_count": 82,
   "metadata": {},
   "outputs": [
    {
     "name": "stdout",
     "output_type": "stream",
     "text": [
      "LR: 0.8282828282828283\n",
      "NB: 0.7856341189674523\n",
      "Tree: 0.8843995510662177\n"
     ]
    }
   ],
   "source": [
    "import sklearn as sk\n",
    "from sklearn import linear_model\n",
    "from sklearn import tree\n",
    "from sklearn.naive_bayes import GaussianNB\n",
    "\n",
    "dataX_train = train[['Age','H','F','Class1','Class2','Class3','Price','F/S ou M/F', 'P/E','Southampton','Cherbourg','Queenstown','Col.','Dr.','Master.','Miss.','Mr.','Mrs.','Rev.','Missing',\"Infant\",\"Child\",\"Teenager\",\"Young Adult\",\"Adult\",\"Senior\"]] \n",
    "dataY_train = train['Survived']\n",
    "dataX_test = kaggle[['Age','H','F','Class1','Class2','Class3','Price','F/S ou M/F', 'P/E','Southampton','Cherbourg','Queenstown','Col.','Dr.','Master.','Miss.','Mr.','Mrs.','Rev.',\"Missing\",\"Infant\",\"Child\",\"Teenager\",\"Young Adult\",\"Adult\",\"Senior\"]]\n",
    "\n",
    "\"\"\"logistic reg\"\"\"\n",
    "data_logistic = linear_model.LogisticRegression()\n",
    "data_logistic.fit(dataX_train, dataY_train)\n",
    "data_test_lr = data_logistic.predict(dataX_test)\n",
    "data_test_lr = pd.DataFrame(data_test_lr)\n",
    "print('LR:', data_logistic.score(dataX_train, dataY_train))\n",
    "#print(data_test_lr)\n",
    "#print(testeur['PassengerId'], data_test_lr)\n",
    "a = kaggle['PassengerId'].tolist()\n",
    "#print(a)\n",
    "df_lr = pd.DataFrame({'PassengerId': a , 'Survived': data_test_lr[0].tolist()})\n",
    "df_lr.set_index('PassengerId')\n",
    "df_lr.to_csv('gender_submission.csv', index = None)\n",
    "\n",
    "#print(data_test_lr.score())\n",
    "\n",
    "\"\"\"Bayesien Naïf\"\"\"\n",
    "gnb = GaussianNB()\n",
    "data_NBayes = gnb.fit(dataX_train, dataY_train).predict(dataX_test)\n",
    "print('NB:', gnb.score(dataX_train, dataY_train))\n",
    "\n",
    "\"\"\"Arbre machin\"\"\"\n",
    "data_tree = tree.DecisionTreeClassifier(max_leaf_nodes = 30)\n",
    "\n",
    "data_DTC = data_tree.fit(dataX_train, dataY_train).predict(dataX_test)\n",
    "print('Tree:', data_tree.score(dataX_train, dataY_train))\n",
    "#df_lr = pd.DataFrame({'ID': a , 'Survived': data_DTC})\n",
    "#df_lr.set_index('ID')\n",
    "#df_lr.to_csv('gender_submission.csv', index = None)"
   ]
  },
  {
   "cell_type": "code",
   "execution_count": 84,
   "metadata": {},
   "outputs": [
    {
     "name": "stdout",
     "output_type": "stream",
     "text": [
      "LR: 0.8282828282828283\n",
      "NB: 0.7811447811447811\n",
      "Tree: 0.8843995510662177\n"
     ]
    }
   ],
   "source": [
    "import sklearn as sk\n",
    "from sklearn import linear_model\n",
    "from sklearn import tree\n",
    "from sklearn.naive_bayes import GaussianNB\n",
    "\n",
    "dataX_train = train[['Age','H','F','Class1','Class2','Class3','Price','F/S ou M/F', 'P/E','Southampton','Cherbourg','Queenstown','Col.','Dr.','Master.','Miss.','Mr.','Mrs.','Rev.']] \n",
    "dataY_train = train['Survived']\n",
    "dataX_test = naan[['Age','H','F','Class1','Class2','Class3','Price','F/S ou M/F', 'P/E','Southampton','Cherbourg','Queenstown','Col.','Dr.','Master.','Miss.','Mr.','Mrs.','Rev.']]\n",
    "\n",
    "\"\"\"logistic reg\"\"\"\n",
    "data_logistic = linear_model.LogisticRegression()\n",
    "data_logistic.fit(dataX_train, dataY_train)\n",
    "data_test_lr = data_logistic.predict(dataX_test)\n",
    "data_test_lr = pd.DataFrame(data_test_lr)\n",
    "print('LR:', data_logistic.score(dataX_train, dataY_train))\n",
    "#print(data_test_lr)\n",
    "#print(testeur['PassengerId'], data_test_lr)\n",
    "a = naan['PassengerId'].tolist()\n",
    "#print(a)\n",
    "df_lr = pd.DataFrame({'PassengerId': a , 'Survived': data_test_lr[0].tolist()})\n",
    "df_lr.set_index('PassengerId')\n",
    "df_lr.to_csv('gender_submission.csv', index = None)\n",
    "\n",
    "#print(data_test_lr.score())\n",
    "\n",
    "\"\"\"Bayesien Naïf\"\"\"\n",
    "gnb = GaussianNB()\n",
    "data_NBayes = gnb.fit(dataX_train, dataY_train).predict(dataX_test)\n",
    "print('NB:', gnb.score(dataX_train, dataY_train))\n",
    "\n",
    "\"\"\"Arbre machin\"\"\"\n",
    "data_tree = tree.DecisionTreeClassifier(max_leaf_nodes = 30)\n",
    "\n",
    "data_DTC = data_tree.fit(dataX_train, dataY_train).predict(dataX_test)\n",
    "print('Tree:', data_tree.score(dataX_train, dataY_train))\n",
    "df_lr = pd.DataFrame({'PassengerId': a , 'Survived': data_DTC})\n",
    "df_lr.set_index('PassengerId')\n",
    "df_lr.to_csv('gender_submission_naan.csv', index = None)"
   ]
  },
  {
   "cell_type": "markdown",
   "metadata": {},
   "source": [
    "# Etape 4 - Solutions d'amélioration\n"
   ]
  },
  {
   "cell_type": "markdown",
   "metadata": {},
   "source": [
    "1) Rajouter des données en transformant les types string ( fillna, one-hot encoding, ...)\n",
    "2) Essayer d'autres algos (SVM, K-nearest, K-mean, neural network , XGBoost...) \n",
    "3) Utiliser la cross-validation\n",
    "4) Random forest: réduire le nombre d'embranchement\n",
    "5) Regularisation pour réduire l'overfitting"
   ]
  },
  {
   "cell_type": "code",
   "execution_count": null,
   "metadata": {},
   "outputs": [],
   "source": []
  }
 ],
 "metadata": {
  "kernelspec": {
   "display_name": "Python 3",
   "language": "python",
   "name": "python3"
  },
  "language_info": {
   "codemirror_mode": {
    "name": "ipython",
    "version": 3
   },
   "file_extension": ".py",
   "mimetype": "text/x-python",
   "name": "python",
   "nbconvert_exporter": "python",
   "pygments_lexer": "ipython3",
   "version": "3.6.4"
  }
 },
 "nbformat": 4,
 "nbformat_minor": 2
}
